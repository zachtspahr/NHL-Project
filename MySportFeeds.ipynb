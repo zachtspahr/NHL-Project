{
 "cells": [
  {
   "cell_type": "code",
   "execution_count": 3,
   "metadata": {},
   "outputs": [
    {
     "name": "stdout",
     "output_type": "stream",
     "text": [
      "Collecting ohmysportsfeedspy\n",
      "  Downloading https://files.pythonhosted.org/packages/7d/84/ca1706e229a5ae4943863891fe5698c97ad69a76c88aa3ff013ab4a7702c/ohmysportsfeedspy-2.0.0.zip\n",
      "Building wheels for collected packages: ohmysportsfeedspy\n",
      "  Building wheel for ohmysportsfeedspy (setup.py) ... \u001b[?25ldone\n",
      "\u001b[?25h  Stored in directory: /Users/zspahr/Library/Caches/pip/wheels/31/e7/31/0ff3af975cb02b5096d797449c1552a46645c01dbf0501ef0c\n",
      "Successfully built ohmysportsfeedspy\n",
      "Installing collected packages: ohmysportsfeedspy\n",
      "Successfully installed ohmysportsfeedspy-2.0.0\n"
     ]
    }
   ],
   "source": [
    "#!pip install ohmysportsfeedspy\n",
    "#!pip install simplejson"
   ]
  },
  {
   "cell_type": "code",
   "execution_count": 4,
   "metadata": {},
   "outputs": [],
   "source": [
    "from ohmysportsfeedspy import MySportsFeeds\n",
    "import simplejson as json\n",
    "import pandas as pd\n",
    "\n",
    "\n"
   ]
  },
  {
   "cell_type": "code",
   "execution_count": 24,
   "metadata": {},
   "outputs": [],
   "source": [
    "msf = MySportsFeeds(version=\"1.2\")\n",
    "msf.authenticate(\"ff3a9d40-4a07-42fb-91f6-00446c\",\"6dRSvQq4F3evp!C\")\n"
   ]
  },
  {
   "cell_type": "code",
   "execution_count": 26,
   "metadata": {},
   "outputs": [
    {
     "name": "stdout",
     "output_type": "stream",
     "text": [
      "Connection error\n"
     ]
    }
   ],
   "source": [
    "#Available stats for each game by a team\n",
    "#Testing connection\n",
    "TeamGameLogs = msf.msf_get_data(league='nhl',season=\"2016-2017-regular\",feed='team_gamelogs',team=5, format='json')\n",
    "try:\n",
    "    TeamGameLogs[\"teamgamelogs\"][\"gamelogs\"][0][\"stats\"]\n",
    "except KeyError:\n",
    "    print (\"Connection error\")\n",
    "    \n",
    "\n"
   ]
  },
  {
   "cell_type": "code",
   "execution_count": null,
   "metadata": {},
   "outputs": [],
   "source": [
    "## Building a loop to go through each season,each team, each game\n",
    "## What is missing is the full list of team IDS, and including a Try and Except.\n",
    "## we can use this lopp to build the dataframe of the stats we need.\n",
    "##This is a limited test over three seasons\n",
    "\n",
    "#Defining Lists\n",
    "\n",
    "ListSeason=[]\n",
    "ListTeam=[]\n",
    "ListblockedShots=[]\n",
    "ListgoalsAgainst=[]\n",
    "ListpenaltyKillPercent=[]\n",
    "ListWin=[]\n",
    "ListShorthandedGoalsAgainst=[]\n",
    "\n",
    "\n",
    "#Defining seasons\n",
    "\n",
    "TargetSeasons=[\"2018-2019-regular\",\n",
    "              \"2017-2018-regular\",\n",
    "              \"2016-2017-regular\"]\n",
    "\n",
    "#Creating loops to fill the lists\n",
    "try:\n",
    "    for season in TargetSeasons:\n",
    "        for team in range (1,33):\n",
    "            for game in range (1,83):\n",
    "                try:\n",
    "                    TeamGameLogs = msf.msf_get_data(league='nhl',season=season,feed='team_gamelogs',team=team, format='json')\n",
    "                    BlockedShots=TeamGameLogs[\"teamgamelogs\"][\"gamelogs\"][game][\"stats\"][\"BlockedShots\"][\"#text\"]\n",
    "                    win=TeamGameLogs[\"teamgamelogs\"][\"gamelogs\"][game][\"stats\"][\"Wins\"][\"#text\"]\n",
    "                    goalsAgainst=TeamGameLogs[\"teamgamelogs\"][\"gamelogs\"][game][\"stats\"][\"GoalsAgainst\"][\"#text\"]\n",
    "                    PenaltyKillPercent=TeamGameLogs[\"teamgamelogs\"][\"gamelogs\"][game][\"stats\"][\"PenaltyKillPercent\"][\"#text\"]\n",
    "                    ShorthandedGoalsAgainst=TeamGameLogs[\"teamgamelogs\"][\"gamelogs\"][game][\"stats\"][\"ShorthandedGoalsAgainst\"][\"#text\"]\n",
    "\n",
    "                except:\n",
    "                    continue\n",
    "\n",
    "                ## Adding values to list\n",
    "                ListSeason.append(season)\n",
    "                ListTeam.append(team)\n",
    "                ListblockedShots.append(BlockedShots)\n",
    "                ListgoalsAgainst.append(goalsAgainst)\n",
    "                ListWin.append(win)\n",
    "                ListpenaltyKillPercent.append(PenaltyKillPercent)\n",
    "                ListShorthandedGoalsAgainst.append(ShorthandedGoalsAgainst)\n",
    "                print(\"checkpoint\")\n",
    "except:\n",
    "    print(\"Error Found\")\n",
    "    \n",
    "    \n",
    "print (\"Completed\")"
   ]
  },
  {
   "cell_type": "code",
   "execution_count": null,
   "metadata": {},
   "outputs": [],
   "source": [
    "#zipping the lists and creating a dataframe\n",
    "\n",
    "ZipList=list(zip(ListSeason, ListTeam,ListblockedShots,ListgoalsAgainst,ListpenaltyKillPercent,ListWin,ListShorthandedGoalsAgainst))\n",
    "\n",
    "Gamesdf = pd.DataFrame(ZipList, columns = [\"Season\",\n",
    "                                           \"Team\",\n",
    "                                           \"BlockedShots\",\n",
    "                                           \"Goals Against\",\n",
    "                                           \"Penalty Kill Percent\",\n",
    "                                           \"Win\",\n",
    "                                           \"Shorthanded Goals Allowed\"])\n",
    "\n",
    "Gamesdf[\"BlockedShots\"]=Gamesdf[\"BlockedShots\"].astype('int32')\n",
    "Gamesdf[\"Goals Against\"]=Gamesdf[\"Goals Against\"].astype('int32')\n",
    "Gamesdf[\"Shorthanded Goals Allowed\"]=Gamesdf[\"Shorthanded Goals Allowed\"].astype('int32')\n",
    "\n",
    "Gamesdf[\"Penalty Kill Percent\"]=Gamesdf[\"Penalty Kill Percent\"].astype('float')\n"
   ]
  },
  {
   "cell_type": "code",
   "execution_count": null,
   "metadata": {},
   "outputs": [],
   "source": [
    "#Grouping by win/loss to compare stats\n",
    "\n",
    "WinLoss=Gamesdf.groupby(\"Win\").mean()\n",
    "WinLoss=WinLoss.drop(['Team'], axis=1)\n",
    "WinLoss"
   ]
  },
  {
   "cell_type": "code",
   "execution_count": null,
   "metadata": {},
   "outputs": [],
   "source": [
    "#available feeds\n",
    "\n",
    "['cumulative_player_stats',\n",
    " 'full_game_schedule',\n",
    " 'daily_game_schedule',\n",
    " 'daily_player_stats',\n",
    " 'game_boxscore',\n",
    " 'scoreboard',\n",
    " 'game_playbyplay', \n",
    " 'player_gamelogs',\n",
    " 'team_gamelogs',\n",
    " 'roster_players',\n",
    " 'game_startinglineup',\n",
    " 'active_players',\n",
    " 'overall_team_standings',\n",
    " 'conference_team_standings',\n",
    " 'division_team_standings',\n",
    " 'playoff_team_standings',\n",
    " 'player_injuries',\n",
    " 'daily_dfs',\n",
    " 'current_season',\n",
    " 'latest_updates']"
   ]
  }
 ],
 "metadata": {
  "kernelspec": {
   "display_name": "Python 3",
   "language": "python",
   "name": "python3"
  },
  "language_info": {
   "codemirror_mode": {
    "name": "ipython",
    "version": 3
   },
   "file_extension": ".py",
   "mimetype": "text/x-python",
   "name": "python",
   "nbconvert_exporter": "python",
   "pygments_lexer": "ipython3",
   "version": "3.7.3"
  }
 },
 "nbformat": 4,
 "nbformat_minor": 2
}
