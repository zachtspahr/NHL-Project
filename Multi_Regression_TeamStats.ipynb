{
 "cells": [
  {
   "cell_type": "markdown",
   "metadata": {},
   "source": [
    "Mutivariate Regression Analysis\n",
    "Videos can be found at: https://www.youtube.com/channel/UCBsTB02yO0QGwtlfiv5m25Q"
   ]
  },
  {
   "cell_type": "markdown",
   "metadata": {},
   "source": [
    "Import our Libraries\n",
    "The first thing we need to do is import the libraries we will be using in this tutorial. To visualize our data, we will be using matplotlib and seaborn to create heatmaps and a scatter matrix. To build our model, we will be using the sklearn library, and the evaluation will be taking place with the statsmodels library. I've also added a few additional modules to help calculate certain metrics."
   ]
  },
  {
   "cell_type": "code",
   "execution_count": 9,
   "metadata": {},
   "outputs": [],
   "source": [
    "#import packages\n",
    "import numpy as np\n",
    "import pandas as pd\n",
    "import seaborn as sns\n",
    "from scipy import stats\n",
    "import matplotlib.pyplot as plt\n",
    "from scipy.stats import linregress\n",
    "\n",
    "import statsmodels.api as sm\n",
    "from statsmodels.stats import diagnostic as diag\n",
    "from statsmodels.stats.outliers_influence import variance_inflation_factor\n",
    "\n",
    "from sklearn.linear_model import LinearRegression\n",
    "from sklearn.model_selection import train_test_split\n",
    "from sklearn.metrics import mean_squared_error, r2_score, mean_absolute_error\n",
    "\n",
    "%matplotlib inline"
   ]
  },
  {
   "cell_type": "code",
   "execution_count": 4,
   "metadata": {},
   "outputs": [
    {
     "data": {
      "text/html": [
       "<div>\n",
       "<style scoped>\n",
       "    .dataframe tbody tr th:only-of-type {\n",
       "        vertical-align: middle;\n",
       "    }\n",
       "\n",
       "    .dataframe tbody tr th {\n",
       "        vertical-align: top;\n",
       "    }\n",
       "\n",
       "    .dataframe thead th {\n",
       "        text-align: right;\n",
       "    }\n",
       "</style>\n",
       "<table border=\"1\" class=\"dataframe\">\n",
       "  <thead>\n",
       "    <tr style=\"text-align: right;\">\n",
       "      <th></th>\n",
       "      <th>Team Name</th>\n",
       "      <th>Blocked Shots</th>\n",
       "      <th>Goals Against</th>\n",
       "      <th>Penalties</th>\n",
       "      <th>Shots</th>\n",
       "      <th>Hits</th>\n",
       "      <th>PK Goals Allows/Min</th>\n",
       "      <th>FO %</th>\n",
       "    </tr>\n",
       "  </thead>\n",
       "  <tbody>\n",
       "    <tr>\n",
       "      <th>0</th>\n",
       "      <td>ANA</td>\n",
       "      <td>2429</td>\n",
       "      <td>459</td>\n",
       "      <td>674</td>\n",
       "      <td>4745</td>\n",
       "      <td>3849</td>\n",
       "      <td>0.063244</td>\n",
       "      <td>51.310547</td>\n",
       "    </tr>\n",
       "    <tr>\n",
       "      <th>1</th>\n",
       "      <td>ARI</td>\n",
       "      <td>2484</td>\n",
       "      <td>471</td>\n",
       "      <td>558</td>\n",
       "      <td>4971</td>\n",
       "      <td>4027</td>\n",
       "      <td>0.063042</td>\n",
       "      <td>47.809408</td>\n",
       "    </tr>\n",
       "    <tr>\n",
       "      <th>2</th>\n",
       "      <td>BOS</td>\n",
       "      <td>2122</td>\n",
       "      <td>424</td>\n",
       "      <td>641</td>\n",
       "      <td>5380</td>\n",
       "      <td>3790</td>\n",
       "      <td>0.055314</td>\n",
       "      <td>50.736035</td>\n",
       "    </tr>\n",
       "    <tr>\n",
       "      <th>3</th>\n",
       "      <td>BUF</td>\n",
       "      <td>2085</td>\n",
       "      <td>547</td>\n",
       "      <td>600</td>\n",
       "      <td>5253</td>\n",
       "      <td>3332</td>\n",
       "      <td>0.050352</td>\n",
       "      <td>49.739769</td>\n",
       "    </tr>\n",
       "    <tr>\n",
       "      <th>4</th>\n",
       "      <td>CAR</td>\n",
       "      <td>2050</td>\n",
       "      <td>475</td>\n",
       "      <td>524</td>\n",
       "      <td>5602</td>\n",
       "      <td>3670</td>\n",
       "      <td>0.075586</td>\n",
       "      <td>51.505222</td>\n",
       "    </tr>\n",
       "  </tbody>\n",
       "</table>\n",
       "</div>"
      ],
      "text/plain": [
       "  Team Name  Blocked Shots  Goals Against  Penalties  Shots  Hits  \\\n",
       "0       ANA           2429            459        674   4745  3849   \n",
       "1       ARI           2484            471        558   4971  4027   \n",
       "2       BOS           2122            424        641   5380  3790   \n",
       "3       BUF           2085            547        600   5253  3332   \n",
       "4       CAR           2050            475        524   5602  3670   \n",
       "\n",
       "   PK Goals Allows/Min       FO %  \n",
       "0             0.063244  51.310547  \n",
       "1             0.063042  47.809408  \n",
       "2             0.055314  50.736035  \n",
       "3             0.050352  49.739769  \n",
       "4             0.075586  51.505222  "
      ]
     },
     "execution_count": 4,
     "metadata": {},
     "output_type": "execute_result"
    }
   ],
   "source": [
    "#load team data\n",
    "team_data = pd.read_csv('teamstats.csv')\n",
    "team_data.head()"
   ]
  },
  {
   "cell_type": "code",
   "execution_count": 5,
   "metadata": {},
   "outputs": [
    {
     "data": {
      "text/html": [
       "<div>\n",
       "<style scoped>\n",
       "    .dataframe tbody tr th:only-of-type {\n",
       "        vertical-align: middle;\n",
       "    }\n",
       "\n",
       "    .dataframe tbody tr th {\n",
       "        vertical-align: top;\n",
       "    }\n",
       "\n",
       "    .dataframe thead th {\n",
       "        text-align: right;\n",
       "    }\n",
       "</style>\n",
       "<table border=\"1\" class=\"dataframe\">\n",
       "  <thead>\n",
       "    <tr style=\"text-align: right;\">\n",
       "      <th></th>\n",
       "      <th>Blocked Shots</th>\n",
       "      <th>Goals Against</th>\n",
       "      <th>Penalties</th>\n",
       "      <th>Shots</th>\n",
       "      <th>Hits</th>\n",
       "      <th>PK Goals Allows/Min</th>\n",
       "      <th>FO %</th>\n",
       "    </tr>\n",
       "    <tr>\n",
       "      <th>Team Name</th>\n",
       "      <th></th>\n",
       "      <th></th>\n",
       "      <th></th>\n",
       "      <th></th>\n",
       "      <th></th>\n",
       "      <th></th>\n",
       "      <th></th>\n",
       "    </tr>\n",
       "  </thead>\n",
       "  <tbody>\n",
       "    <tr>\n",
       "      <th>ANA</th>\n",
       "      <td>2429.0</td>\n",
       "      <td>459.0</td>\n",
       "      <td>674.0</td>\n",
       "      <td>4745.0</td>\n",
       "      <td>3849.0</td>\n",
       "      <td>0.063244</td>\n",
       "      <td>51.310547</td>\n",
       "    </tr>\n",
       "    <tr>\n",
       "      <th>ARI</th>\n",
       "      <td>2484.0</td>\n",
       "      <td>471.0</td>\n",
       "      <td>558.0</td>\n",
       "      <td>4971.0</td>\n",
       "      <td>4027.0</td>\n",
       "      <td>0.063042</td>\n",
       "      <td>47.809408</td>\n",
       "    </tr>\n",
       "    <tr>\n",
       "      <th>BOS</th>\n",
       "      <td>2122.0</td>\n",
       "      <td>424.0</td>\n",
       "      <td>641.0</td>\n",
       "      <td>5380.0</td>\n",
       "      <td>3790.0</td>\n",
       "      <td>0.055314</td>\n",
       "      <td>50.736035</td>\n",
       "    </tr>\n",
       "    <tr>\n",
       "      <th>BUF</th>\n",
       "      <td>2085.0</td>\n",
       "      <td>547.0</td>\n",
       "      <td>600.0</td>\n",
       "      <td>5253.0</td>\n",
       "      <td>3332.0</td>\n",
       "      <td>0.050352</td>\n",
       "      <td>49.739769</td>\n",
       "    </tr>\n",
       "    <tr>\n",
       "      <th>CAR</th>\n",
       "      <td>2050.0</td>\n",
       "      <td>475.0</td>\n",
       "      <td>524.0</td>\n",
       "      <td>5602.0</td>\n",
       "      <td>3670.0</td>\n",
       "      <td>0.075586</td>\n",
       "      <td>51.505222</td>\n",
       "    </tr>\n",
       "  </tbody>\n",
       "</table>\n",
       "</div>"
      ],
      "text/plain": [
       "           Blocked Shots  Goals Against  Penalties   Shots    Hits  \\\n",
       "Team Name                                                            \n",
       "ANA               2429.0          459.0      674.0  4745.0  3849.0   \n",
       "ARI               2484.0          471.0      558.0  4971.0  4027.0   \n",
       "BOS               2122.0          424.0      641.0  5380.0  3790.0   \n",
       "BUF               2085.0          547.0      600.0  5253.0  3332.0   \n",
       "CAR               2050.0          475.0      524.0  5602.0  3670.0   \n",
       "\n",
       "           PK Goals Allows/Min       FO %  \n",
       "Team Name                                  \n",
       "ANA                   0.063244  51.310547  \n",
       "ARI                   0.063042  47.809408  \n",
       "BOS                   0.055314  50.736035  \n",
       "BUF                   0.050352  49.739769  \n",
       "CAR                   0.075586  51.505222  "
      ]
     },
     "execution_count": 5,
     "metadata": {},
     "output_type": "execute_result"
    }
   ],
   "source": [
    "# make sure columns are floats\n",
    "cols = team_data.columns.drop('Team Name')\n",
    "team_data[cols] = team_data[cols].astype(float)\n",
    "\n",
    "# set the index to the team column\n",
    "team_data = team_data.set_index('Team Name')\n",
    "team_data.head()"
   ]
  },
  {
   "cell_type": "code",
   "execution_count": 6,
   "metadata": {},
   "outputs": [
    {
     "data": {
      "text/html": [
       "<div>\n",
       "<style scoped>\n",
       "    .dataframe tbody tr th:only-of-type {\n",
       "        vertical-align: middle;\n",
       "    }\n",
       "\n",
       "    .dataframe tbody tr th {\n",
       "        vertical-align: top;\n",
       "    }\n",
       "\n",
       "    .dataframe thead th {\n",
       "        text-align: right;\n",
       "    }\n",
       "</style>\n",
       "<table border=\"1\" class=\"dataframe\">\n",
       "  <thead>\n",
       "    <tr style=\"text-align: right;\">\n",
       "      <th></th>\n",
       "      <th>Blocked Shots</th>\n",
       "      <th>Goals Against</th>\n",
       "      <th>Penalties</th>\n",
       "      <th>Shots</th>\n",
       "      <th>Hits</th>\n",
       "      <th>PK Goals Allows/Min</th>\n",
       "      <th>FO %</th>\n",
       "    </tr>\n",
       "  </thead>\n",
       "  <tbody>\n",
       "    <tr>\n",
       "      <th>Blocked Shots</th>\n",
       "      <td>1.000000</td>\n",
       "      <td>0.147120</td>\n",
       "      <td>0.063097</td>\n",
       "      <td>-0.502159</td>\n",
       "      <td>0.232564</td>\n",
       "      <td>0.304377</td>\n",
       "      <td>-0.288227</td>\n",
       "    </tr>\n",
       "    <tr>\n",
       "      <th>Goals Against</th>\n",
       "      <td>0.147120</td>\n",
       "      <td>1.000000</td>\n",
       "      <td>-0.192716</td>\n",
       "      <td>-0.185152</td>\n",
       "      <td>-0.034409</td>\n",
       "      <td>0.210878</td>\n",
       "      <td>-0.314922</td>\n",
       "    </tr>\n",
       "    <tr>\n",
       "      <th>Penalties</th>\n",
       "      <td>0.063097</td>\n",
       "      <td>-0.192716</td>\n",
       "      <td>1.000000</td>\n",
       "      <td>-0.214891</td>\n",
       "      <td>0.100498</td>\n",
       "      <td>-0.443474</td>\n",
       "      <td>-0.067966</td>\n",
       "    </tr>\n",
       "    <tr>\n",
       "      <th>Shots</th>\n",
       "      <td>-0.502159</td>\n",
       "      <td>-0.185152</td>\n",
       "      <td>-0.214891</td>\n",
       "      <td>1.000000</td>\n",
       "      <td>-0.132821</td>\n",
       "      <td>-0.164925</td>\n",
       "      <td>0.290889</td>\n",
       "    </tr>\n",
       "    <tr>\n",
       "      <th>Hits</th>\n",
       "      <td>0.232564</td>\n",
       "      <td>-0.034409</td>\n",
       "      <td>0.100498</td>\n",
       "      <td>-0.132821</td>\n",
       "      <td>1.000000</td>\n",
       "      <td>0.115664</td>\n",
       "      <td>-0.277854</td>\n",
       "    </tr>\n",
       "    <tr>\n",
       "      <th>PK Goals Allows/Min</th>\n",
       "      <td>0.304377</td>\n",
       "      <td>0.210878</td>\n",
       "      <td>-0.443474</td>\n",
       "      <td>-0.164925</td>\n",
       "      <td>0.115664</td>\n",
       "      <td>1.000000</td>\n",
       "      <td>-0.070813</td>\n",
       "    </tr>\n",
       "    <tr>\n",
       "      <th>FO %</th>\n",
       "      <td>-0.288227</td>\n",
       "      <td>-0.314922</td>\n",
       "      <td>-0.067966</td>\n",
       "      <td>0.290889</td>\n",
       "      <td>-0.277854</td>\n",
       "      <td>-0.070813</td>\n",
       "      <td>1.000000</td>\n",
       "    </tr>\n",
       "  </tbody>\n",
       "</table>\n",
       "</div>"
      ],
      "text/plain": [
       "                     Blocked Shots  Goals Against  Penalties     Shots  \\\n",
       "Blocked Shots             1.000000       0.147120   0.063097 -0.502159   \n",
       "Goals Against             0.147120       1.000000  -0.192716 -0.185152   \n",
       "Penalties                 0.063097      -0.192716   1.000000 -0.214891   \n",
       "Shots                    -0.502159      -0.185152  -0.214891  1.000000   \n",
       "Hits                      0.232564      -0.034409   0.100498 -0.132821   \n",
       "PK Goals Allows/Min       0.304377       0.210878  -0.443474 -0.164925   \n",
       "FO %                     -0.288227      -0.314922  -0.067966  0.290889   \n",
       "\n",
       "                         Hits  PK Goals Allows/Min      FO %  \n",
       "Blocked Shots        0.232564             0.304377 -0.288227  \n",
       "Goals Against       -0.034409             0.210878 -0.314922  \n",
       "Penalties            0.100498            -0.443474 -0.067966  \n",
       "Shots               -0.132821            -0.164925  0.290889  \n",
       "Hits                 1.000000             0.115664 -0.277854  \n",
       "PK Goals Allows/Min  0.115664             1.000000 -0.070813  \n",
       "FO %                -0.277854            -0.070813  1.000000  "
      ]
     },
     "metadata": {},
     "output_type": "display_data"
    },
    {
     "data": {
      "text/plain": [
       "<matplotlib.axes._subplots.AxesSubplot at 0x2a05ed1df60>"
      ]
     },
     "execution_count": 6,
     "metadata": {},
     "output_type": "execute_result"
    },
    {
     "data": {
      "image/png": "[encoded data removed]",
      "text/plain": [
       "<Figure size 432x288 with 2 Axes>"
      ]
     },
     "metadata": {
      "needs_background": "light"
     },
     "output_type": "display_data"
    }
   ],
   "source": [
    "# avoid multicolinearity (where explanatory varibales are too correlated)\n",
    "# calculate the correlation matrix\n",
    "corr = team_data.corr()\n",
    "\n",
    "# display the correlation matrix\n",
    "display(corr)\n",
    "\n",
    "# plot the correlation heatmap\n",
    "sns.heatmap(corr, xticklabels=corr.columns, yticklabels=corr.columns, cmap='RdBu')\n",
    "\n",
    "#dark red and dark blue indicate highly correlated variables"
   ]
  },
  {
   "cell_type": "code",
   "execution_count": 21,
   "metadata": {},
   "outputs": [
    {
     "data": {
      "text/html": [
       "<div>\n",
       "<style scoped>\n",
       "    .dataframe tbody tr th:only-of-type {\n",
       "        vertical-align: middle;\n",
       "    }\n",
       "\n",
       "    .dataframe tbody tr th {\n",
       "        vertical-align: top;\n",
       "    }\n",
       "\n",
       "    .dataframe thead th {\n",
       "        text-align: right;\n",
       "    }\n",
       "</style>\n",
       "<table border=\"1\" class=\"dataframe\">\n",
       "  <thead>\n",
       "    <tr style=\"text-align: right;\">\n",
       "      <th></th>\n",
       "      <th>Goals Against</th>\n",
       "      <th>Penalties</th>\n",
       "      <th>Shots</th>\n",
       "      <th>Hits</th>\n",
       "      <th>FO %</th>\n",
       "    </tr>\n",
       "    <tr>\n",
       "      <th>Team Name</th>\n",
       "      <th></th>\n",
       "      <th></th>\n",
       "      <th></th>\n",
       "      <th></th>\n",
       "      <th></th>\n",
       "    </tr>\n",
       "  </thead>\n",
       "  <tbody>\n",
       "    <tr>\n",
       "      <th>ANA</th>\n",
       "      <td>459.0</td>\n",
       "      <td>674.0</td>\n",
       "      <td>4745.0</td>\n",
       "      <td>3849.0</td>\n",
       "      <td>51.310547</td>\n",
       "    </tr>\n",
       "    <tr>\n",
       "      <th>ARI</th>\n",
       "      <td>471.0</td>\n",
       "      <td>558.0</td>\n",
       "      <td>4971.0</td>\n",
       "      <td>4027.0</td>\n",
       "      <td>47.809408</td>\n",
       "    </tr>\n",
       "    <tr>\n",
       "      <th>BOS</th>\n",
       "      <td>424.0</td>\n",
       "      <td>641.0</td>\n",
       "      <td>5380.0</td>\n",
       "      <td>3790.0</td>\n",
       "      <td>50.736035</td>\n",
       "    </tr>\n",
       "    <tr>\n",
       "      <th>BUF</th>\n",
       "      <td>547.0</td>\n",
       "      <td>600.0</td>\n",
       "      <td>5253.0</td>\n",
       "      <td>3332.0</td>\n",
       "      <td>49.739769</td>\n",
       "    </tr>\n",
       "    <tr>\n",
       "      <th>CAR</th>\n",
       "      <td>475.0</td>\n",
       "      <td>524.0</td>\n",
       "      <td>5602.0</td>\n",
       "      <td>3670.0</td>\n",
       "      <td>51.505222</td>\n",
       "    </tr>\n",
       "  </tbody>\n",
       "</table>\n",
       "</div>"
      ],
      "text/plain": [
       "           Goals Against  Penalties   Shots    Hits       FO %\n",
       "Team Name                                                     \n",
       "ANA                459.0      674.0  4745.0  3849.0  51.310547\n",
       "ARI                471.0      558.0  4971.0  4027.0  47.809408\n",
       "BOS                424.0      641.0  5380.0  3790.0  50.736035\n",
       "BUF                547.0      600.0  5253.0  3332.0  49.739769\n",
       "CAR                475.0      524.0  5602.0  3670.0  51.505222"
      ]
     },
     "execution_count": 21,
     "metadata": {},
     "output_type": "execute_result"
    }
   ],
   "source": [
    "#remove variables with high multicolinearity \n",
    "#blocked shots is obviously dependent on shots faced and pk goals allowed is dependent on penalties committed\n",
    "team_data = team_data.drop(['Blocked Shots', 'PK Goals Allows/Min'], axis = 1)\n",
    "team_data.head()"
   ]
  },
  {
   "cell_type": "code",
   "execution_count": 22,
   "metadata": {},
   "outputs": [
    {
     "data": {
      "image/png": "[encoded data removed]",
      "text/plain": [
       "<Figure size 2160x1440 with 25 Axes>"
      ]
     },
     "metadata": {
      "needs_background": "light"
     },
     "output_type": "display_data"
    }
   ],
   "source": [
    "# visualize data with scatter matrix to show distribution of variables plus scatterplot with every variable pairing\n",
    "# define the plot\n",
    "pd.plotting.scatter_matrix(team_data, alpha = 1, figsize = (30, 20))\n",
    "\n",
    "# show the plot\n",
    "plt.show()"
   ]
  },
  {
   "cell_type": "code",
   "execution_count": 23,
   "metadata": {},
   "outputs": [
    {
     "data": {
      "image/png": "[encoded data removed]",
      "text/plain": [
       "<Figure size 432x288 with 1 Axes>"
      ]
     },
     "metadata": {
      "needs_background": "light"
     },
     "output_type": "display_data"
    }
   ],
   "source": [
    "# regress fo% against GA\n",
    "(slope, intercept, _, _, _) = linregress(team_data['Goals Against'], team_data['FO %'])\n",
    "fit = slope * team_data['Goals Against'] + intercept\n",
    "\n",
    "# Plot data\n",
    "fig, ax = plt.subplots()\n",
    "\n",
    "fig.suptitle(\"Goals Against vs Faceoff Percent\", fontsize=16, fontweight=\"bold\")\n",
    "\n",
    "ax.set_xlabel(\"GA\")\n",
    "ax.set_ylabel(\"FO %\")\n",
    "\n",
    "ax.plot(team_data['Goals Against'], team_data['FO %'], linewidth=0, marker='o')\n",
    "ax.plot(team_data['Goals Against'], fit, 'b--')\n",
    "\n",
    "plt.show()"
   ]
  },
  {
   "cell_type": "code",
   "execution_count": 24,
   "metadata": {},
   "outputs": [
    {
     "data": {
      "image/png": "[encoded data removed]",
      "text/plain": [
       "<Figure size 432x288 with 1 Axes>"
      ]
     },
     "metadata": {
      "needs_background": "light"
     },
     "output_type": "display_data"
    }
   ],
   "source": [
    "# regress Penalties against GA\n",
    "(slope, intercept, _, _, _) = linregress(team_data['Goals Against'], team_data['Penalties'])\n",
    "fit = slope * team_data['Goals Against'] + intercept\n",
    "\n",
    "# Plot data\n",
    "fig, ax = plt.subplots()\n",
    "\n",
    "fig.suptitle(\"Goals Against vs Penalties\", fontsize=16, fontweight=\"bold\")\n",
    "\n",
    "ax.set_xlabel(\"GA\")\n",
    "ax.set_ylabel(\"Penalties\")\n",
    "\n",
    "ax.plot(team_data['Goals Against'], team_data['Penalties'], linewidth=0, marker='o')\n",
    "ax.plot(team_data['Goals Against'], fit, 'b--')\n",
    "\n",
    "plt.show()"
   ]
  },
  {
   "cell_type": "code",
   "execution_count": 25,
   "metadata": {},
   "outputs": [
    {
     "data": {
      "text/html": [
       "<div>\n",
       "<style scoped>\n",
       "    .dataframe tbody tr th:only-of-type {\n",
       "        vertical-align: middle;\n",
       "    }\n",
       "\n",
       "    .dataframe tbody tr th {\n",
       "        vertical-align: top;\n",
       "    }\n",
       "\n",
       "    .dataframe thead th {\n",
       "        text-align: right;\n",
       "    }\n",
       "</style>\n",
       "<table border=\"1\" class=\"dataframe\">\n",
       "  <thead>\n",
       "    <tr style=\"text-align: right;\">\n",
       "      <th></th>\n",
       "      <th>Goals Against</th>\n",
       "      <th>Penalties</th>\n",
       "      <th>Shots</th>\n",
       "      <th>Hits</th>\n",
       "      <th>FO %</th>\n",
       "    </tr>\n",
       "  </thead>\n",
       "  <tbody>\n",
       "    <tr>\n",
       "      <th>count</th>\n",
       "      <td>31.000000</td>\n",
       "      <td>31.000000</td>\n",
       "      <td>31.000000</td>\n",
       "      <td>31.000000</td>\n",
       "      <td>31.000000</td>\n",
       "    </tr>\n",
       "    <tr>\n",
       "      <th>mean</th>\n",
       "      <td>485.483871</td>\n",
       "      <td>605.290323</td>\n",
       "      <td>5194.903226</td>\n",
       "      <td>3601.225806</td>\n",
       "      <td>49.986587</td>\n",
       "    </tr>\n",
       "    <tr>\n",
       "      <th>std</th>\n",
       "      <td>38.881762</td>\n",
       "      <td>50.705814</td>\n",
       "      <td>246.887202</td>\n",
       "      <td>423.514715</td>\n",
       "      <td>1.647786</td>\n",
       "    </tr>\n",
       "    <tr>\n",
       "      <th>min</th>\n",
       "      <td>416.000000</td>\n",
       "      <td>487.000000</td>\n",
       "      <td>4745.000000</td>\n",
       "      <td>2726.000000</td>\n",
       "      <td>46.181593</td>\n",
       "    </tr>\n",
       "    <tr>\n",
       "      <th>25%</th>\n",
       "      <td>459.500000</td>\n",
       "      <td>572.000000</td>\n",
       "      <td>4951.500000</td>\n",
       "      <td>3343.500000</td>\n",
       "      <td>48.923020</td>\n",
       "    </tr>\n",
       "    <tr>\n",
       "      <th>50%</th>\n",
       "      <td>481.000000</td>\n",
       "      <td>609.000000</td>\n",
       "      <td>5214.000000</td>\n",
       "      <td>3670.000000</td>\n",
       "      <td>49.780702</td>\n",
       "    </tr>\n",
       "    <tr>\n",
       "      <th>75%</th>\n",
       "      <td>515.500000</td>\n",
       "      <td>643.000000</td>\n",
       "      <td>5394.500000</td>\n",
       "      <td>3845.500000</td>\n",
       "      <td>50.908653</td>\n",
       "    </tr>\n",
       "    <tr>\n",
       "      <th>max</th>\n",
       "      <td>574.000000</td>\n",
       "      <td>694.000000</td>\n",
       "      <td>5602.000000</td>\n",
       "      <td>4372.000000</td>\n",
       "      <td>53.997923</td>\n",
       "    </tr>\n",
       "  </tbody>\n",
       "</table>\n",
       "</div>"
      ],
      "text/plain": [
       "       Goals Against   Penalties        Shots         Hits       FO %\n",
       "count      31.000000   31.000000    31.000000    31.000000  31.000000\n",
       "mean      485.483871  605.290323  5194.903226  3601.225806  49.986587\n",
       "std        38.881762   50.705814   246.887202   423.514715   1.647786\n",
       "min       416.000000  487.000000  4745.000000  2726.000000  46.181593\n",
       "25%       459.500000  572.000000  4951.500000  3343.500000  48.923020\n",
       "50%       481.000000  609.000000  5214.000000  3670.000000  49.780702\n",
       "75%       515.500000  643.000000  5394.500000  3845.500000  50.908653\n",
       "max       574.000000  694.000000  5602.000000  4372.000000  53.997923"
      ]
     },
     "execution_count": 25,
     "metadata": {},
     "output_type": "execute_result"
    }
   ],
   "source": [
    "# get the summary of data\n",
    "desc_df = team_data.describe()\n",
    "desc_df"
   ]
  },
  {
   "cell_type": "code",
   "execution_count": 26,
   "metadata": {},
   "outputs": [
    {
     "data": {
      "text/plain": [
       "Index([], dtype='object', name='Team Name')"
      ]
     },
     "execution_count": 26,
     "metadata": {},
     "output_type": "execute_result"
    }
   ],
   "source": [
    "# remove outliers\n",
    "# filter the data frame to remove the values exceeding 3 standard deviations\n",
    "team_remove_data = team_data[(np.abs(stats.zscore(team_data)) < 3).all(axis=1)]\n",
    "\n",
    "# what rows were removed\n",
    "team_data.index.difference(team_remove_data.index)"
   ]
  },
  {
   "cell_type": "code",
   "execution_count": 27,
   "metadata": {
    "scrolled": true
   },
   "outputs": [
    {
     "name": "stdout",
     "output_type": "stream",
     "text": [
      "                            OLS Regression Results                            \n",
      "==============================================================================\n",
      "Dep. Variable:          Goals Against   R-squared:                       0.179\n",
      "Model:                            OLS   Adj. R-squared:                  0.053\n",
      "Method:                 Least Squares   F-statistic:                     1.421\n",
      "Date:                Mon, 28 Oct 2019   Prob (F-statistic):              0.255\n",
      "Time:                        19:30:20   Log-Likelihood:                -153.89\n",
      "No. Observations:                  31   AIC:                             317.8\n",
      "Df Residuals:                      26   BIC:                             325.0\n",
      "Df Model:                           4                                         \n",
      "Covariance Type:            nonrobust                                         \n",
      "==============================================================================\n",
      "                 coef    std err          t      P>|t|      [0.025      0.975]\n",
      "------------------------------------------------------------------------------\n",
      "const       1140.5241    282.057      4.044      0.000     560.747    1720.301\n",
      "Penalties     -0.1814      0.140     -1.296      0.206      -0.469       0.106\n",
      "Shots         -0.0251      0.030     -0.840      0.409      -0.087       0.036\n",
      "Hits          -0.0110      0.017     -0.647      0.523      -0.046       0.024\n",
      "FO %          -7.5039      4.528     -1.657      0.110     -16.812       1.804\n",
      "==============================================================================\n",
      "Omnibus:                        4.173   Durbin-Watson:                   1.518\n",
      "Prob(Omnibus):                  0.124   Jarque-Bera (JB):                2.187\n",
      "Skew:                           0.384   Prob(JB):                        0.335\n",
      "Kurtosis:                       1.949   Cond. No.                     2.64e+05\n",
      "==============================================================================\n",
      "\n",
      "Warnings:\n",
      "[1] Standard Errors assume that the covariance matrix of the errors is correctly specified.\n",
      "[2] The condition number is large, 2.64e+05. This might indicate that there are\n",
      "strong multicollinearity or other numerical problems.\n"
     ]
    },
    {
     "name": "stderr",
     "output_type": "stream",
     "text": [
      "C:\\Users\\jvanzalk\\AppData\\Local\\Continuum\\anaconda3\\lib\\site-packages\\numpy\\core\\fromnumeric.py:2389: FutureWarning: Method .ptp is deprecated and will be removed in a future version. Use numpy.ptp instead.\n",
      "  return ptp(axis=axis, out=out, **kwargs)\n"
     ]
    }
   ],
   "source": [
    "# build the model\n",
    "# define our input variable (X) & output variable (Y)\n",
    "# input contains explanatory variables and output contains goals against (GA)\n",
    "X = team_data.drop('Goals Against', axis = 1)\n",
    "Y = team_data[['Goals Against']]\n",
    "\n",
    "# Split X and y into X_\n",
    "X_train, X_test, y_train, y_test = train_test_split(X, Y, test_size=0.20, random_state=1)\n",
    "\n",
    "# create a Linear Regression model object\n",
    "regression_model = LinearRegression()\n",
    "\n",
    "# pass through the X_train & y_train data set\n",
    "regression_model.fit(X_train, y_train)\n",
    "\n",
    "# define our intput\n",
    "X2 = sm.add_constant(X)\n",
    "\n",
    "# create a OLS model\n",
    "model = sm.OLS(Y, X2)\n",
    "\n",
    "# fit the data\n",
    "est = model.fit()\n",
    "\n",
    "print(est.summary())\n",
    "\n",
    "#adjusted r squared indicated the percentage that variables in our model contribute to overall variablity (e.g., 63% indeicates 47% is unexplained)"
   ]
  },
  {
   "cell_type": "code",
   "execution_count": 28,
   "metadata": {
    "scrolled": true
   },
   "outputs": [
    {
     "data": {
      "text/plain": [
       "const        0.000417\n",
       "Penalties    0.206203\n",
       "Shots        0.408676\n",
       "Hits         0.523347\n",
       "FO %         0.109524\n",
       "dtype: float64"
      ]
     },
     "execution_count": 28,
     "metadata": {},
     "output_type": "execute_result"
    }
   ],
   "source": [
    "# print the p-values\n",
    "est.pvalues"
   ]
  }
 ],
 "metadata": {
  "kernelspec": {
   "display_name": "Python 3",
   "language": "python",
   "name": "python3"
  },
  "language_info": {
   "codemirror_mode": {
    "name": "ipython",
    "version": 3
   },
   "file_extension": ".py",
   "mimetype": "text/x-python",
   "name": "python",
   "nbconvert_exporter": "python",
   "pygments_lexer": "ipython3",
   "version": "3.7.3"
  }
 },
 "nbformat": 4,
 "nbformat_minor": 2
}
