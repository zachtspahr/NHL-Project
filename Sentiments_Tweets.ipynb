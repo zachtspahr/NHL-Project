{
 "cells": [
  {
   "cell_type": "code",
   "execution_count": 1,
   "metadata": {},
   "outputs": [],
   "source": [
    "# Dependencies\n",
    "import tweepy\n",
    "import numpy as np\n",
    "import pandas as pd\n",
    "import matplotlib.pyplot as plt\n",
    "\n",
    "\n",
    "# Import and Initialize Sentiment Analyzer\n",
    "from vaderSentiment.vaderSentiment import SentimentIntensityAnalyzer\n",
    "analyzer = SentimentIntensityAnalyzer()\n",
    "\n",
    "# Twitter API Keys\n",
    "from Config import (consumer_key,\n",
    "                    consumer_secret,\n",
    "                    access_token,\n",
    "                    access_token_secret)\n",
    "\n",
    "# Setup Tweepy API Authentication\n",
    "auth = tweepy.OAuthHandler(consumer_key, consumer_secret)\n",
    "auth.set_access_token(access_token, access_token_secret)\n",
    "api = tweepy.API(auth, parser=tweepy.parsers.JSONParser())"
   ]
  },
  {
   "cell_type": "code",
   "execution_count": 3,
   "metadata": {},
   "outputs": [
    {
     "name": "stdout",
     "output_type": "stream",
     "text": [
      "2000\n"
     ]
    }
   ],
   "source": [
    "# Search for People Tweeting about Mark Hamill\n",
    "search_term = \"Washington Capitals\"\n",
    "\n",
    "# Create variable for holding the oldest tweet\n",
    "oldest_tweet = None\n",
    "\n",
    "# List to hold unique IDs\n",
    "unique_ids = []\n",
    "\n",
    "compound_list=[]\n",
    "positive_list=[]\n",
    "negative_list=[]\n",
    "neutral_list=[]\n",
    "\n",
    "# Counter to keep track of the number of tweets retrieved\n",
    "counter = 0\n",
    "\n",
    "# Loop through 5 times (total of 500 tweets)\n",
    "for x in range(20):\n",
    "\n",
    "    # Retrieve 100 most recent tweets -- specifying a max_id\n",
    "    public_tweets = api.search(search_term, \n",
    "                               count=100, \n",
    "                               result_type=\"recent\", \n",
    "                               max_id=oldest_tweet,\n",
    "                              tweet_mode=\"extended\")\n",
    "\n",
    "    # Print Tweets\n",
    "    for tweet in public_tweets[\"statuses\"]:\n",
    "\n",
    "        results = analyzer.polarity_scores(tweet[\"full_text\"])\n",
    "        compound = results[\"compound\"]\n",
    "        pos = results[\"pos\"]\n",
    "        neu = results[\"neu\"]\n",
    "        neg = results[\"neg\"]\n",
    "        compound_list.append(compound)\n",
    "        positive_list.append(pos)\n",
    "        negative_list.append(neg)\n",
    "        neutral_list.append(neu)    \n",
    "        \n",
    "        # Append tweet_id to ids list if it doesn't already exist\n",
    "        # This allows checking for duplicate tweets\n",
    "        tweet_id = tweet[\"id\"]\n",
    "        \n",
    "        if tweet_id not in unique_ids:\n",
    "            unique_ids.append(tweet_id)\n",
    "       \n",
    "        # Reassign the the oldest tweet (i.e. the max_id)\n",
    "        # Subtract 1 so the previous oldest isn't included\n",
    "        # in the new search\n",
    "        \n",
    "        oldest_tweet = tweet_id - 1\n",
    "        \n",
    "        # Increase counter by 1\n",
    "        counter += 1\n",
    "print(counter)"
   ]
  },
  {
   "cell_type": "code",
   "execution_count": 4,
   "metadata": {},
   "outputs": [
    {
     "name": "stdout",
     "output_type": "stream",
     "text": [
      "Search term: Washington Capitals\n",
      "Compound: 0.493\n",
      "Positive: 0.193\n",
      "Neutral: 0.790\n",
      "Negative: 0.017\n"
     ]
    }
   ],
   "source": [
    "# Print the Averages\n",
    "print(f\"Search term: {search_term}\")\n",
    "print(f\"Compound: {np.mean(compound_list):.3f}\")\n",
    "print(f\"Positive: {np.mean(positive_list):.3f}\")\n",
    "print(f\"Neutral: {np.mean(neutral_list):.3f}\")\n",
    "print(f\"Negative: {np.mean(negative_list):.3f}\")"
   ]
  },
  {
   "cell_type": "code",
   "execution_count": 5,
   "metadata": {},
   "outputs": [],
   "source": [
    "ZipList=list(zip(compound_list,positive_list,neutral_list,negative_list))\n",
    "sentiments= pd.DataFrame(ZipList, columns = [\"Compound \",\n",
    "                                           \"Positive\",\n",
    "                                           \"Neutral\",\n",
    "                                           \"Negative\"])\n",
    "#sentiments.mean().plot(kind=\"bar\")\n",
    "\n",
    "graph=sentiments.mean()\n",
    "graph=pd.DataFrame(graph)\n",
    "\n",
    "graph.columns=[\"Score\"]\n",
    "y=graph[\"Score\"]\n"
   ]
  },
  {
   "cell_type": "code",
   "execution_count": 6,
   "metadata": {},
   "outputs": [
    {
     "data": {
      "image/png": "[encoded data removed]",
      "text/plain": [
       "<Figure size 432x288 with 1 Axes>"
      ]
     },
     "metadata": {
      "needs_background": "light"
     },
     "output_type": "display_data"
    }
   ],
   "source": [
    "y=graph[\"Score\"]\n",
    "x_axis=[]\n",
    "for x in graph.index:\n",
    "    x_axis.append(x)\n",
    "    \n",
    "graph=plt.bar(x_axis, y, color='blue', width=-0.95,align=\"center\", alpha=0.7)\n",
    "graph[3].set_color('r')\n",
    "graph[1].set_color('g')\n",
    "\n",
    "plt.title(f\"Sentimental Analysis of {search_term} on Twitter \\n Most recent {counter} tweets\")\n",
    "plt.xlabel(\"Sentiments\")\n",
    "plt.ylabel(\"Score\")\n",
    "#plt.grid()\n",
    "\n",
    "labels=[]\n",
    "for i in y:\n",
    "    v=round(i,2)\n",
    "    labels.append(f\"{v}\")\n",
    "\n",
    "for z in range(0,len(x_axis)):\n",
    "    height= np.sign(y[z])*(np.absolute((y[z]/2)))\n",
    "    plt.text(z,height, labels[z], \n",
    "             horizontalalignment='center',\n",
    "             verticalalignment='baseline',\n",
    "             bbox=dict(facecolor='white', alpha=0.8))\n",
    "\n",
    "plt.savefig(\"SentimentatAnalysis.png\")\n",
    "\n",
    "\n"
   ]
  }
 ],
 "metadata": {
  "kernelspec": {
   "display_name": "Python 3",
   "language": "python",
   "name": "python3"
  },
  "language_info": {
   "codemirror_mode": {
    "name": "ipython",
    "version": 3
   },
   "file_extension": ".py",
   "mimetype": "text/x-python",
   "name": "python",
   "nbconvert_exporter": "python",
   "pygments_lexer": "ipython3",
   "version": "3.7.3"
  },
  "varInspector": {
   "cols": {
    "lenName": 16,
    "lenType": 16,
    "lenVar": 40
   },
   "kernels_config": {
    "python": {
     "delete_cmd_postfix": "",
     "delete_cmd_prefix": "del ",
     "library": "var_list.py",
     "varRefreshCmd": "print(var_dic_list())"
    },
    "r": {
     "delete_cmd_postfix": ") ",
     "delete_cmd_prefix": "rm(",
     "library": "var_list.r",
     "varRefreshCmd": "cat(var_dic_list()) "
    }
   },
   "types_to_exclude": [
    "module",
    "function",
    "builtin_function_or_method",
    "instance",
    "_Feature"
   ],
   "window_display": false
  }
 },
 "nbformat": 4,
 "nbformat_minor": 2
}
